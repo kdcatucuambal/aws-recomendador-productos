{
 "cells": [
  {
   "cell_type": "markdown",
   "id": "ab7cf4f7-20e5-4835-9807-3ec49c6150b1",
   "metadata": {},
   "source": [
    "## Crear campañas\n",
    "\n",
    "Una campaña es una versión solución hosteada, un endpoint que puede consultar para obtener recomendaciones.\n"
   ]
  },
  {
   "cell_type": "code",
   "execution_count": 1,
   "id": "cb17f9cd-c739-4dbb-9ed8-4ab453e68d9f",
   "metadata": {
    "tags": []
   },
   "outputs": [
    {
     "name": "stderr",
     "output_type": "stream",
     "text": [
      "/home/ec2-user/anaconda3/envs/python3/lib/python3.10/site-packages/pandas/core/computation/expressions.py:21: UserWarning: Pandas requires version '2.8.0' or newer of 'numexpr' (version '2.7.3' currently installed).\n",
      "  from pandas.core.computation.check import NUMEXPR_INSTALLED\n"
     ]
    }
   ],
   "source": [
    "import time\n",
    "from time import sleep\n",
    "import json\n",
    "import numpy as np\n",
    "import pandas as pd\n",
    "pd.set_option('display.max_columns', 500)     # Make sure we can see all of the columns\n",
    "pd.set_option('display.max_rows', 20)         # Keep the output on one page\n",
    "pd.set_option('display.max_colwidth', 200)  \n",
    "\n",
    "\n",
    "from datetime import datetime\n",
    "import uuid\n",
    "import random\n",
    "\n",
    "import boto3\n",
    "import botocore\n",
    "from botocore.exceptions import ClientError\n",
    "import pandas as pd"
   ]
  },
  {
   "cell_type": "code",
   "execution_count": 2,
   "id": "d19f144b-c483-46c0-a58d-81b2d6bad590",
   "metadata": {
    "tags": []
   },
   "outputs": [],
   "source": [
    "personalize = boto3.client('personalize')\n",
    "personalize_runtime = boto3.client('personalize-runtime')\n",
    "\n",
    "# Establish a connection to Personalize's event streaming\n",
    "personalize_events = boto3.client(service_name='personalize-events')"
   ]
  },
  {
   "cell_type": "code",
   "execution_count": 4,
   "id": "cc67beaf-db73-48b0-946c-e7f06bf2d806",
   "metadata": {
    "tags": []
   },
   "outputs": [
    {
     "name": "stdout",
     "output_type": "stream",
     "text": [
      "arn:aws:personalize:us-east-1:818802851925:campaign/personalize-product-userpersonalization\n"
     ]
    }
   ],
   "source": [
    "# user personalization\n",
    "userpersonalization_solution_version_arn = 'arn:aws:personalize:us-east-1:818802851925:solution/personalize-product-userpersonalization/371f5e26'\n",
    "userpersonalization_create_campaign_response = personalize.create_campaign(\n",
    "    name = \"personalize-product-userpersonalization\",\n",
    "    solutionVersionArn = userpersonalization_solution_version_arn,\n",
    "    minProvisionedTPS = 1\n",
    ")\n",
    "\n",
    "userpersonalization_campaign_arn = userpersonalization_create_campaign_response['campaignArn']\n",
    "print (userpersonalization_campaign_arn)"
   ]
  },
  {
   "cell_type": "code",
   "execution_count": null,
   "id": "840e077d-befb-4f64-8912-f35f3f2ff133",
   "metadata": {},
   "outputs": [],
   "source": []
  }
 ],
 "metadata": {
  "kernelspec": {
   "display_name": "conda_python3",
   "language": "python",
   "name": "conda_python3"
  },
  "language_info": {
   "codemirror_mode": {
    "name": "ipython",
    "version": 3
   },
   "file_extension": ".py",
   "mimetype": "text/x-python",
   "name": "python",
   "nbconvert_exporter": "python",
   "pygments_lexer": "ipython3",
   "version": "3.10.13"
  }
 },
 "nbformat": 4,
 "nbformat_minor": 5
}
