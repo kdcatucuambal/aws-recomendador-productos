{
 "cells": [
  {
   "cell_type": "code",
   "execution_count": 1,
   "id": "641d418e-b614-45a4-808e-cf58715c1bd5",
   "metadata": {
    "tags": []
   },
   "outputs": [
    {
     "name": "stdout",
     "output_type": "stream",
     "text": [
      "Stored variables and their in-db values:\n"
     ]
    }
   ],
   "source": [
    "%store -r\n",
    "%store"
   ]
  },
  {
   "cell_type": "code",
   "execution_count": 2,
   "id": "1e7b9c54-ca2a-4cca-b877-52c8cfcf4f4a",
   "metadata": {
    "tags": []
   },
   "outputs": [
    {
     "name": "stderr",
     "output_type": "stream",
     "text": [
      "/home/ec2-user/anaconda3/envs/python3/lib/python3.10/site-packages/pandas/core/computation/expressions.py:21: UserWarning: Pandas requires version '2.8.0' or newer of 'numexpr' (version '2.7.3' currently installed).\n",
      "  from pandas.core.computation.check import NUMEXPR_INSTALLED\n"
     ]
    }
   ],
   "source": [
    "import time\n",
    "from time import sleep\n",
    "import json\n",
    "import pandas as pd\n",
    "pd.set_option('display.max_columns', 500)     # Make sure we can see all of the columns\n",
    "pd.set_option('display.max_rows', 20)         # Keep the output on one page\n",
    "pd.set_option('display.max_colwidth', 200)  \n",
    "import boto3"
   ]
  },
  {
   "cell_type": "code",
   "execution_count": 3,
   "id": "bcbb78fe-35d0-4733-ba86-906f4ea70cf5",
   "metadata": {
    "tags": []
   },
   "outputs": [],
   "source": [
    "# Configure the SDK to Personalize:\n",
    "personalize = boto3.client('personalize')\n",
    "personalize_runtime = boto3.client('personalize-runtime')"
   ]
  },
  {
   "cell_type": "code",
   "execution_count": 11,
   "id": "bdcdb81b-b6cb-47b5-b854-79c107cbe3fc",
   "metadata": {
    "tags": []
   },
   "outputs": [
    {
     "data": {
      "text/plain": [
       "[{'name': 'aws-ecomm-customers-who-viewed-x-also-viewed',\n",
       "  'recipeArn': 'arn:aws:personalize:::recipe/aws-ecomm-customers-who-viewed-x-also-viewed',\n",
       "  'status': 'ACTIVE',\n",
       "  'creationDateTime': datetime.datetime(2019, 6, 10, 0, 0, tzinfo=tzlocal()),\n",
       "  'lastUpdatedDateTime': datetime.datetime(2024, 3, 5, 4, 26, 33, 904000, tzinfo=tzlocal()),\n",
       "  'domain': 'ECOMMERCE'},\n",
       " {'name': 'aws-ecomm-frequently-bought-together',\n",
       "  'recipeArn': 'arn:aws:personalize:::recipe/aws-ecomm-frequently-bought-together',\n",
       "  'status': 'ACTIVE',\n",
       "  'creationDateTime': datetime.datetime(2019, 6, 10, 0, 0, tzinfo=tzlocal()),\n",
       "  'lastUpdatedDateTime': datetime.datetime(2024, 3, 5, 4, 26, 33, 904000, tzinfo=tzlocal()),\n",
       "  'domain': 'ECOMMERCE'},\n",
       " {'name': 'aws-ecomm-popular-items-by-purchases',\n",
       "  'recipeArn': 'arn:aws:personalize:::recipe/aws-ecomm-popular-items-by-purchases',\n",
       "  'status': 'ACTIVE',\n",
       "  'creationDateTime': datetime.datetime(2019, 6, 10, 0, 0, tzinfo=tzlocal()),\n",
       "  'lastUpdatedDateTime': datetime.datetime(2024, 3, 5, 4, 26, 33, 904000, tzinfo=tzlocal()),\n",
       "  'domain': 'ECOMMERCE'},\n",
       " {'name': 'aws-ecomm-popular-items-by-views',\n",
       "  'recipeArn': 'arn:aws:personalize:::recipe/aws-ecomm-popular-items-by-views',\n",
       "  'status': 'ACTIVE',\n",
       "  'creationDateTime': datetime.datetime(2019, 6, 10, 0, 0, tzinfo=tzlocal()),\n",
       "  'lastUpdatedDateTime': datetime.datetime(2024, 3, 5, 4, 26, 33, 904000, tzinfo=tzlocal()),\n",
       "  'domain': 'ECOMMERCE'},\n",
       " {'name': 'aws-ecomm-recommended-for-you',\n",
       "  'recipeArn': 'arn:aws:personalize:::recipe/aws-ecomm-recommended-for-you',\n",
       "  'status': 'ACTIVE',\n",
       "  'creationDateTime': datetime.datetime(2019, 6, 10, 0, 0, tzinfo=tzlocal()),\n",
       "  'lastUpdatedDateTime': datetime.datetime(2024, 3, 5, 4, 26, 33, 904000, tzinfo=tzlocal()),\n",
       "  'domain': 'ECOMMERCE'},\n",
       " {'name': 'aws-item-affinity',\n",
       "  'recipeArn': 'arn:aws:personalize:::recipe/aws-item-affinity',\n",
       "  'status': 'ACTIVE',\n",
       "  'creationDateTime': datetime.datetime(2021, 7, 15, 0, 0, tzinfo=tzlocal()),\n",
       "  'lastUpdatedDateTime': datetime.datetime(2024, 3, 5, 4, 26, 33, 904000, tzinfo=tzlocal())},\n",
       " {'name': 'aws-item-attribute-affinity',\n",
       "  'recipeArn': 'arn:aws:personalize:::recipe/aws-item-attribute-affinity',\n",
       "  'status': 'ACTIVE',\n",
       "  'creationDateTime': datetime.datetime(2021, 8, 25, 0, 0, tzinfo=tzlocal()),\n",
       "  'lastUpdatedDateTime': datetime.datetime(2024, 3, 5, 4, 26, 33, 904000, tzinfo=tzlocal())},\n",
       " {'name': 'aws-next-best-action',\n",
       "  'recipeArn': 'arn:aws:personalize:::recipe/aws-next-best-action',\n",
       "  'status': 'ACTIVE',\n",
       "  'creationDateTime': datetime.datetime(2023, 8, 11, 0, 0, tzinfo=tzlocal()),\n",
       "  'lastUpdatedDateTime': datetime.datetime(2024, 3, 5, 4, 26, 33, 904000, tzinfo=tzlocal())},\n",
       " {'name': 'aws-personalized-ranking',\n",
       "  'recipeArn': 'arn:aws:personalize:::recipe/aws-personalized-ranking',\n",
       "  'status': 'ACTIVE',\n",
       "  'creationDateTime': datetime.datetime(2019, 6, 10, 0, 0, tzinfo=tzlocal()),\n",
       "  'lastUpdatedDateTime': datetime.datetime(2024, 3, 5, 4, 26, 33, 904000, tzinfo=tzlocal())},\n",
       " {'name': 'aws-popularity-count',\n",
       "  'recipeArn': 'arn:aws:personalize:::recipe/aws-popularity-count',\n",
       "  'status': 'ACTIVE',\n",
       "  'creationDateTime': datetime.datetime(2019, 6, 10, 0, 0, tzinfo=tzlocal()),\n",
       "  'lastUpdatedDateTime': datetime.datetime(2024, 3, 5, 4, 26, 33, 904000, tzinfo=tzlocal())},\n",
       " {'name': 'aws-similar-items',\n",
       "  'recipeArn': 'arn:aws:personalize:::recipe/aws-similar-items',\n",
       "  'status': 'ACTIVE',\n",
       "  'creationDateTime': datetime.datetime(2019, 6, 10, 0, 0, tzinfo=tzlocal()),\n",
       "  'lastUpdatedDateTime': datetime.datetime(2024, 3, 5, 4, 26, 33, 904000, tzinfo=tzlocal())}]"
      ]
     },
     "execution_count": 11,
     "metadata": {},
     "output_type": "execute_result"
    }
   ],
   "source": [
    "recipes = personalize.list_recipes()['recipes']"
   ]
  },
  {
   "cell_type": "code",
   "execution_count": 10,
   "id": "d21ed3a0-9c07-48d2-9b74-3de3b85719d1",
   "metadata": {
    "tags": []
   },
   "outputs": [
    {
     "data": {
      "text/html": [
       "<div>\n",
       "<style scoped>\n",
       "    .dataframe tbody tr th:only-of-type {\n",
       "        vertical-align: middle;\n",
       "    }\n",
       "\n",
       "    .dataframe tbody tr th {\n",
       "        vertical-align: top;\n",
       "    }\n",
       "\n",
       "    .dataframe thead th {\n",
       "        text-align: right;\n",
       "    }\n",
       "</style>\n",
       "<table border=\"1\" class=\"dataframe\">\n",
       "  <thead>\n",
       "    <tr style=\"text-align: right;\">\n",
       "      <th></th>\n",
       "      <th>name</th>\n",
       "      <th>recipeArn</th>\n",
       "    </tr>\n",
       "  </thead>\n",
       "  <tbody>\n",
       "    <tr>\n",
       "      <th>0</th>\n",
       "      <td>aws-ecomm-customers-who-viewed-x-also-viewed</td>\n",
       "      <td>arn:aws:personalize:::recipe/aws-ecomm-customers-who-viewed-x-also-viewed</td>\n",
       "    </tr>\n",
       "    <tr>\n",
       "      <th>1</th>\n",
       "      <td>aws-ecomm-frequently-bought-together</td>\n",
       "      <td>arn:aws:personalize:::recipe/aws-ecomm-frequently-bought-together</td>\n",
       "    </tr>\n",
       "    <tr>\n",
       "      <th>2</th>\n",
       "      <td>aws-ecomm-popular-items-by-purchases</td>\n",
       "      <td>arn:aws:personalize:::recipe/aws-ecomm-popular-items-by-purchases</td>\n",
       "    </tr>\n",
       "    <tr>\n",
       "      <th>3</th>\n",
       "      <td>aws-ecomm-popular-items-by-views</td>\n",
       "      <td>arn:aws:personalize:::recipe/aws-ecomm-popular-items-by-views</td>\n",
       "    </tr>\n",
       "    <tr>\n",
       "      <th>4</th>\n",
       "      <td>aws-ecomm-recommended-for-you</td>\n",
       "      <td>arn:aws:personalize:::recipe/aws-ecomm-recommended-for-you</td>\n",
       "    </tr>\n",
       "    <tr>\n",
       "      <th>5</th>\n",
       "      <td>aws-item-affinity</td>\n",
       "      <td>arn:aws:personalize:::recipe/aws-item-affinity</td>\n",
       "    </tr>\n",
       "    <tr>\n",
       "      <th>6</th>\n",
       "      <td>aws-item-attribute-affinity</td>\n",
       "      <td>arn:aws:personalize:::recipe/aws-item-attribute-affinity</td>\n",
       "    </tr>\n",
       "    <tr>\n",
       "      <th>7</th>\n",
       "      <td>aws-next-best-action</td>\n",
       "      <td>arn:aws:personalize:::recipe/aws-next-best-action</td>\n",
       "    </tr>\n",
       "    <tr>\n",
       "      <th>8</th>\n",
       "      <td>aws-personalized-ranking</td>\n",
       "      <td>arn:aws:personalize:::recipe/aws-personalized-ranking</td>\n",
       "    </tr>\n",
       "    <tr>\n",
       "      <th>9</th>\n",
       "      <td>aws-popularity-count</td>\n",
       "      <td>arn:aws:personalize:::recipe/aws-popularity-count</td>\n",
       "    </tr>\n",
       "    <tr>\n",
       "      <th>10</th>\n",
       "      <td>aws-similar-items</td>\n",
       "      <td>arn:aws:personalize:::recipe/aws-similar-items</td>\n",
       "    </tr>\n",
       "  </tbody>\n",
       "</table>\n",
       "</div>"
      ],
      "text/plain": [
       "                                            name  \\\n",
       "0   aws-ecomm-customers-who-viewed-x-also-viewed   \n",
       "1           aws-ecomm-frequently-bought-together   \n",
       "2           aws-ecomm-popular-items-by-purchases   \n",
       "3               aws-ecomm-popular-items-by-views   \n",
       "4                  aws-ecomm-recommended-for-you   \n",
       "5                              aws-item-affinity   \n",
       "6                    aws-item-attribute-affinity   \n",
       "7                           aws-next-best-action   \n",
       "8                       aws-personalized-ranking   \n",
       "9                           aws-popularity-count   \n",
       "10                             aws-similar-items   \n",
       "\n",
       "                                                                    recipeArn  \n",
       "0   arn:aws:personalize:::recipe/aws-ecomm-customers-who-viewed-x-also-viewed  \n",
       "1           arn:aws:personalize:::recipe/aws-ecomm-frequently-bought-together  \n",
       "2           arn:aws:personalize:::recipe/aws-ecomm-popular-items-by-purchases  \n",
       "3               arn:aws:personalize:::recipe/aws-ecomm-popular-items-by-views  \n",
       "4                  arn:aws:personalize:::recipe/aws-ecomm-recommended-for-you  \n",
       "5                              arn:aws:personalize:::recipe/aws-item-affinity  \n",
       "6                    arn:aws:personalize:::recipe/aws-item-attribute-affinity  \n",
       "7                           arn:aws:personalize:::recipe/aws-next-best-action  \n",
       "8                       arn:aws:personalize:::recipe/aws-personalized-ranking  \n",
       "9                           arn:aws:personalize:::recipe/aws-popularity-count  \n",
       "10                             arn:aws:personalize:::recipe/aws-similar-items  "
      ]
     },
     "execution_count": 10,
     "metadata": {},
     "output_type": "execute_result"
    }
   ],
   "source": [
    "recipes_df = pd.DataFrame(recipes)\n",
    "recipes_df[['name','recipeArn']]"
   ]
  },
  {
   "cell_type": "code",
   "execution_count": 14,
   "id": "253cc947-1f72-40d0-af4f-c897af85e49c",
   "metadata": {
    "tags": []
   },
   "outputs": [],
   "source": [
    "user_personalization_recipe_arn = 'arn:aws:personalize:::recipe/aws-user-personalization'\n",
    "dataset_group_arn = 'arn:aws:personalize:us-east-1:818802851925:dataset-group/test_personalize_products'"
   ]
  },
  {
   "cell_type": "code",
   "execution_count": 17,
   "id": "770e70bf-fe05-4e7c-b08a-455ac8344ce8",
   "metadata": {
    "tags": []
   },
   "outputs": [],
   "source": [
    "user_personalization_create_solution_response = personalize.create_solution(\n",
    "    name = \"personalize-product-userpersonalization\",\n",
    "    datasetGroupArn = dataset_group_arn,\n",
    "    recipeArn = user_personalization_recipe_arn\n",
    ")"
   ]
  },
  {
   "cell_type": "code",
   "execution_count": 18,
   "id": "33593f6d-1265-4686-a18d-9a54d2664106",
   "metadata": {
    "tags": []
   },
   "outputs": [
    {
     "name": "stdout",
     "output_type": "stream",
     "text": [
      "\"arn:aws:personalize:us-east-1:818802851925:solution/personalize-product-userpersonalization\"\n"
     ]
    }
   ],
   "source": [
    "user_personalization_solution_arn = user_personalization_create_solution_response['solutionArn']\n",
    "print(json.dumps(user_personalization_solution_arn, indent=2))"
   ]
  },
  {
   "cell_type": "code",
   "execution_count": null,
   "id": "e00d6e27-c287-4e51-b57a-39eb9b3e0bef",
   "metadata": {},
   "outputs": [],
   "source": [
    "#User personalization\n",
    "userpersonalization_create_solution_version_response = personalize.create_solution_version(\n",
    "    solutionArn = user_personalization_solution_arn\n",
    ")\n",
    "userpersonalization_solution_version_arn = userpersonalization_create_solution_version_response['solutionVersionArn']\n",
    "print(json.dumps(user_personalization_create_solution_response, indent=2))"
   ]
  }
 ],
 "metadata": {
  "kernelspec": {
   "display_name": "conda_python3",
   "language": "python",
   "name": "conda_python3"
  },
  "language_info": {
   "codemirror_mode": {
    "name": "ipython",
    "version": 3
   },
   "file_extension": ".py",
   "mimetype": "text/x-python",
   "name": "python",
   "nbconvert_exporter": "python",
   "pygments_lexer": "ipython3",
   "version": "3.10.13"
  }
 },
 "nbformat": 4,
 "nbformat_minor": 5
}
